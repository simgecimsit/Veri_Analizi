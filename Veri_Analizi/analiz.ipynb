{
 "cells": [
  {
   "attachments": {},
   "cell_type": "markdown",
   "metadata": {},
   "source": [
    "## Sorular\n",
    "Numpy, Pandas kütüphaneleri kullanarak ilgili soruları cevaplayınız.\n",
    "Kullanılacak veri seti: https://www.kaggle.com/datasets/rtatman/legodatabase?resource=download&select=sets.csv\n",
    "\n",
    "1. Yılda yayınlanan ortalama Lego set (Lego sets) sayısı nedir?\n",
    "2. Yılda ortalama Lego parça (Lego parts) sayısı nedir?\n",
    "3. Lego parçalarında en popüler olan 5 renk hangisidir?\n",
    "4. Şeffaf Lego parçaları oranının tüm parçalara oranı kaçtır?\n",
    "5. En nadir 5 Lego tuğlası (Lego bricks) hangileridir?"
   ]
  },
  {
   "attachments": {},
   "cell_type": "markdown",
   "metadata": {},
   "source": [
    "Numpy ve Pandas kütüphanelerini ekleyelim ."
   ]
  },
  {
   "cell_type": "code",
   "execution_count": 1,
   "metadata": {},
   "outputs": [],
   "source": [
    "import numpy as np\n",
    "import pandas as pd\n",
    "\n"
   ]
  },
  {
   "attachments": {},
   "cell_type": "markdown",
   "metadata": {},
   "source": [
    "## CEVAPLAR\n",
    "1. Yılda yayınlanan ortalama Lego set (Lego sets) sayısı nedir?"
   ]
  },
  {
   "cell_type": "code",
   "execution_count": 2,
   "metadata": {},
   "outputs": [
    {
     "name": "stdout",
     "output_type": "stream",
     "text": [
      "Yılda yayınlanan ortalama Lego set sayısı: 176.86363636363637\n"
     ]
    }
   ],
   "source": [
    "# Veri setini okuyalım.\n",
    "data = pd.read_csv(\"sets.csv\")\n",
    "\n",
    "# yıllara göre Lego setlerinin sayısını hesaplayalım.\n",
    "lego_sets_by_year = data.groupby('year').count()['set_num']\n",
    "\n",
    "# yıllara göre ortalama Lego setlerinin sayısını hesaplayalım.\n",
    "mean_lego_sets_by_year = np.mean(lego_sets_by_year)\n",
    "\n",
    "print(\"Yılda yayınlanan ortalama Lego set sayısı:\", mean_lego_sets_by_year)\n"
   ]
  },
  {
   "attachments": {},
   "cell_type": "markdown",
   "metadata": {},
   "source": [
    "2. Yılda ortalama Lego parça (Lego parts) sayısı nedir? "
   ]
  },
  {
   "cell_type": "code",
   "execution_count": 47,
   "metadata": {},
   "outputs": [
    {
     "name": "stdout",
     "output_type": "stream",
     "text": [
      "Yılda ortalama Lego parça sayısı: 28698.31818181818\n"
     ]
    }
   ],
   "source": [
    "#Her yıl için  parça sayısını  hesaplayalım.\n",
    "lego_parts_by_year = data.groupby('year').sum()['num_parts']\n",
    "#print(lego_parts_by_year)\n",
    "\n",
    "#Yıllara göre parça sayısının genel bir ortalama değerini hesaplayalım.\n",
    "mean_parts_num = np.mean(lego_parts_by_year)\n",
    "print(\"Yılda ortalama Lego parça sayısı:\",mean_parts_num)\n"
   ]
  },
  {
   "attachments": {},
   "cell_type": "markdown",
   "metadata": {},
   "source": [
    "3. Lego parçalarında en popüler olan 5 renk hangisidir?"
   ]
  },
  {
   "cell_type": "code",
   "execution_count": 54,
   "metadata": {},
   "outputs": [
    {
     "name": "stdout",
     "output_type": "stream",
     "text": [
      "name\n",
      "Black                115176\n",
      "White                 66549\n",
      "Light Bluish Gray     55317\n",
      "Red                   50217\n",
      "Dark Bluish Gray      43913\n",
      "dtype: int64\n"
     ]
    }
   ],
   "source": [
    "\n",
    "# Gerekli veri setlerini okuyalım.\n",
    "colors = pd.read_csv('colors.csv')\n",
    "inventory_parts = pd.read_csv('inventory_parts.csv')\n",
    "\n",
    "# Renk adlarını, \"color_id\" sütunlarına göre birleştirelim.\n",
    "merged = pd.merge(inventory_parts, colors, on='color_id')  #color.csv deki id --->color_id olarak değiştirildi\n",
    "\n",
    "# Renk adlarının sayısını gruplayarak sayalım.\n",
    "color_counts = merged.groupby('name').size()\n",
    "\n",
    "# Renk adlarını en popüler olandan en az popüler olana doğru sıralayalım.\n",
    "sorted_colors = color_counts.sort_values(ascending=False)\n",
    "\n",
    "# İlk 5 en popüler rengi seçip ekrana yazdıralım.\n",
    "top_5_colors = sorted_colors.head(5)\n",
    "print(top_5_colors)"
   ]
  },
  {
   "attachments": {},
   "cell_type": "markdown",
   "metadata": {},
   "source": [
    "4. Şeffaf Lego parçaları oranının tüm parçalara oranı kaçtır?"
   ]
  },
  {
   "cell_type": "code",
   "execution_count": 58,
   "metadata": {},
   "outputs": [
    {
     "name": "stdout",
     "output_type": "stream",
     "text": [
      "Şeffaf Lego parçalarının tüm legolara oranı :  4.936869485345572\n"
     ]
    }
   ],
   "source": [
    "# Legolar arasında şeffaf renge sahip olan legoların sayısını belirleyelim. \n",
    "# 3.sorudaki merged i burada da kullandık.\n",
    "trans_lego = merged[merged['is_trans']=='t']['quantity'].sum()\n",
    "\n",
    "\n",
    "#Tüm  legoların sayısını belirleyelim.\n",
    "all_lego = merged['quantity'].sum()\n",
    "\n",
    "\n",
    "# Şeffaf legoların tüm legolara oranını hesaplayalım.\n",
    "result = trans_lego / all_lego * 100\n",
    "print(\"Şeffaf Lego parçalarının tüm legolara oranı : \",result)\n"
   ]
  },
  {
   "attachments": {},
   "cell_type": "markdown",
   "metadata": {},
   "source": [
    "5. En nadir 5 Lego tuğlası (Lego bricks) hangileridir?"
   ]
  },
  {
   "cell_type": "code",
   "execution_count": 61,
   "metadata": {},
   "outputs": [
    {
     "name": "stdout",
     "output_type": "stream",
     "text": [
      "En nadir 5 Lego tuğlası:\n",
      "1. Technic Beams Special\n",
      "2. Znap\n",
      "3. Technic Pins\n",
      "4. Technic Bushes\n",
      "5. Tools\n"
     ]
    }
   ],
   "source": [
    "\n",
    "# Veri setlerini yükleyelim.\n",
    "part_categories = pd.read_csv(\"part_categories.csv\")\n",
    "parts = pd.read_csv(\"parts.csv\")\n",
    "\n",
    "# `part_categories` ve `parts` veri setlerini birleştirelim.\n",
    "parts_merged = parts.merge(part_categories, left_on='part_cat_id', right_on='id')\n",
    "\n",
    "# Her tuğlanın sayısını hesaplayalım.\n",
    "brick_counts = parts_merged['name_y'].value_counts()\n",
    "\n",
    "# En nadir 5 tuğlayı belirleyelim.\n",
    "rarest_bricks = brick_counts.tail(5).index.tolist()\n",
    "\n",
    "print(\"En nadir 5 Lego tuğlası:\")\n",
    "for i, brick in enumerate(rarest_bricks):\n",
    "    print(f\"{i+1}. {brick}\")\n"
   ]
  }
 ],
 "metadata": {
  "kernelspec": {
   "display_name": "Python 3",
   "language": "python",
   "name": "python3"
  },
  "language_info": {
   "codemirror_mode": {
    "name": "ipython",
    "version": 3
   },
   "file_extension": ".py",
   "mimetype": "text/x-python",
   "name": "python",
   "nbconvert_exporter": "python",
   "pygments_lexer": "ipython3",
   "version": "3.9.13"
  },
  "orig_nbformat": 4
 },
 "nbformat": 4,
 "nbformat_minor": 2
}
